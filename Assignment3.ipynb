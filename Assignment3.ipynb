{
 "cells": [
  {
   "cell_type": "code",
   "execution_count": 4,
   "metadata": {
    "collapsed": false
   },
   "outputs": [
    {
     "name": "stdout",
     "output_type": "stream",
     "text": [
      "super ice us\n"
     ]
    }
   ],
   "source": [
    "word = \"supercalifragilisticexpialidocious\"\n",
    "#slices is a list containing each interesting section of 'word'\n",
    "slices = [word[:5], word[18:21], word[-2:]]\n",
    "print(slices)\n"
   ]
  },
  {
   "cell_type": "code",
   "execution_count": 3,
   "metadata": {
    "collapsed": false
   },
   "outputs": [
    {
     "name": "stdout",
     "output_type": "stream",
     "text": [
      "The mean is: 6.0\n"
     ]
    }
   ],
   "source": [
    "#numbers is an array containing even numbers up to ten\n",
    "numbers = [2,4,6,8,10]\n",
    "#mean will be used to calculate the mean of the numbers in 'numbers'\n",
    "mean = 0\n",
    "#iterates through 'numbers'\n",
    "for number in numbers:\n",
    "    #adds each number to mean\n",
    "    mean += number\n",
    "#divides by the length of the array\n",
    "mean /= len(numbers)\n",
    "print('The mean is:', mean)"
   ]
  },
  {
   "cell_type": "code",
   "execution_count": 7,
   "metadata": {
    "collapsed": false
   },
   "outputs": [
    {
     "name": "stdout",
     "output_type": "stream",
     "text": [
      "The standard deviation is: 2.8284271247461903\n"
     ]
    }
   ],
   "source": [
    "#std_deviation will be used to calculate the standard deviation of 'numbers'\n",
    "std_deviation = 0\n",
    "#iterates through 'numbers'\n",
    "for number in numbers:\n",
    "    #Finds the difference between 'number' and 'mean'\n",
    "    #squares the difference, and adds it to 'std_deviation'\n",
    "    std_deviation += (number - mean) ** 2\n",
    "#divides by the length of the array\n",
    "#this value is the varience\n",
    "std_deviation /= len(numbers)\n",
    "#finds the square root of the varience to get standard deviation\n",
    "std_deviation = std_deviation ** 0.5\n",
    "print(\"The standard deviation is:\", std_deviation)\n",
    "    "
   ]
  },
  {
   "cell_type": "code",
   "execution_count": 8,
   "metadata": {
    "collapsed": false
   },
   "outputs": [
    {
     "name": "stdout",
     "output_type": "stream",
     "text": [
      "The standard error is: 1.2649110640673518\n"
     ]
    }
   ],
   "source": [
    "#Calculates the standard error of the mean\n",
    "std_error = std_deviation/(len(numbers) ** 0.5)\n",
    "print (\"The standard error is:\", std_error)"
   ]
  },
  {
   "cell_type": "code",
   "execution_count": 9,
   "metadata": {
    "collapsed": false
   },
   "outputs": [
    {
     "name": "stdout",
     "output_type": "stream",
     "text": [
      "Isaac Menninga\n"
     ]
    }
   ],
   "source": [
    "#first name\n",
    "First = \"Isaac\"\n",
    "#last name\n",
    "Last = \"Menninga\"\n",
    "#Combines first and last names, with a space in the middle to get full name\n",
    "full_name = First + \" \" + Last\n",
    "print(full_name)"
   ]
  }
 ],
 "metadata": {
  "kernelspec": {
   "display_name": "Python 3",
   "language": "python",
   "name": "python3"
  },
  "language_info": {
   "codemirror_mode": {
    "name": "ipython",
    "version": 3
   },
   "file_extension": ".py",
   "mimetype": "text/x-python",
   "name": "python",
   "nbconvert_exporter": "python",
   "pygments_lexer": "ipython3",
   "version": "3.4.3"
  }
 },
 "nbformat": 4,
 "nbformat_minor": 0
}
